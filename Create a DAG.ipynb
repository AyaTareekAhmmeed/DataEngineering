{
 "cells": [
  {
   "cell_type": "code",
   "execution_count": 1,
   "id": "157ab0a5",
   "metadata": {},
   "outputs": [
    {
     "name": "stderr",
     "output_type": "stream",
     "text": [
      "WARNING:root:OSError while attempting to symlink the latest log directory\n"
     ]
    },
    {
     "data": {
      "text/html": [
       "<pre style=\"white-space:pre;overflow-x:auto;line-height:normal;font-family:Menlo,'DejaVu Sans Mono',consolas,'Courier New',monospace\"><span style=\"color: #808000; text-decoration-color: #808000; font-weight: bold\">C:\\Users\\Magic00\\AppData\\Local\\Temp\\ipykernel_1672\\</span><span style=\"color: #808000; text-decoration-color: #808000; font-weight: bold\">2094523943.</span><span style=\"color: #808000; text-decoration-color: #808000; font-weight: bold\">py:</span><span style=\"color: #808000; text-decoration-color: #808000; font-weight: bold\">3</span><span style=\"color: #808000; text-decoration-color: #808000; font-weight: bold\"> DeprecationWarning</span><span style=\"color: #808000; text-decoration-color: #808000\">: The `airflow.operators.dummy_operator.DummyOperator` class is deprecated. Please use `</span><span style=\"color: #808000; text-decoration-color: #808000\">'airflow.operators.empty.EmptyOperator'</span><span style=\"color: #808000; text-decoration-color: #808000\">`.</span>\n",
       "</pre>\n"
      ],
      "text/plain": [
       "\u001b[1;33mC:\\Users\\Magic00\\AppData\\Local\\Temp\\ipykernel_1672\\\u001b[0m\u001b[1;33m2094523943.\u001b[0m\u001b[1;33mpy:\u001b[0m\u001b[1;33m3\u001b[0m\u001b[1;33m DeprecationWarning\u001b[0m\u001b[33m: The `airflow.operators.dummy_operator.DummyOperator` class is deprecated. Please use `\u001b[0m\u001b[33m'airflow.operators.empty.EmptyOperator'\u001b[0m\u001b[33m`.\u001b[0m\n"
      ]
     },
     "metadata": {},
     "output_type": "display_data"
    },
    {
     "data": {
      "text/html": [
       "<pre style=\"white-space:pre;overflow-x:auto;line-height:normal;font-family:Menlo,'DejaVu Sans Mono',consolas,'Courier New',monospace\"><span style=\"color: #808000; text-decoration-color: #808000; font-weight: bold\">C:\\Users\\Magic00\\AppData\\Local\\Temp\\ipykernel_1672\\</span><span style=\"color: #808000; text-decoration-color: #808000; font-weight: bold\">2094523943.</span><span style=\"color: #808000; text-decoration-color: #808000; font-weight: bold\">py:</span><span style=\"color: #808000; text-decoration-color: #808000; font-weight: bold\">17</span><span style=\"color: #808000; text-decoration-color: #808000; font-weight: bold\"> RemovedInAirflow3Warning</span><span style=\"color: #808000; text-decoration-color: #808000\">: Param `schedule_interval` is deprecated and will be removed in a future release. Please use `schedule` instead.</span>\n",
       "</pre>\n"
      ],
      "text/plain": [
       "\u001b[1;33mC:\\Users\\Magic00\\AppData\\Local\\Temp\\ipykernel_1672\\\u001b[0m\u001b[1;33m2094523943.\u001b[0m\u001b[1;33mpy:\u001b[0m\u001b[1;33m17\u001b[0m\u001b[1;33m RemovedInAirflow3Warning\u001b[0m\u001b[33m: Param `schedule_interval` is deprecated and will be removed in a future release. Please use `schedule` instead.\u001b[0m\n"
      ]
     },
     "metadata": {},
     "output_type": "display_data"
    }
   ],
   "source": [
    "from airflow import DAG\n",
    "from datetime import datetime, timedelta\n",
    "from airflow.operators.dummy_operator import DummyOperator\n",
    "\n",
    "# DAG arguments from Task 1.1\n",
    "dag_args = {\n",
    "    'owner': 'Aya',\n",
    "    'start_date': datetime.today(),\n",
    "    'email': 'dummy@email.com',\n",
    "    'email_on_failure': True,\n",
    "    'email_on_retry': True,\n",
    "    'retries': 1,\n",
    "    'retry_delay': timedelta(minutes=5),\n",
    "}\n",
    "\n",
    "# Create the DAG\n",
    "dag = DAG(\n",
    "    dag_id='ETL_toll_data',\n",
    "    default_args=dag_args,\n",
    "    schedule_interval='@daily',\n",
    "    description='Apache Airflow Final Assignment',\n",
    ")\n"
   ]
  },
  {
   "cell_type": "code",
   "execution_count": 2,
   "id": "60536f5d",
   "metadata": {},
   "outputs": [
    {
     "data": {
      "text/html": [
       "<pre style=\"white-space:pre;overflow-x:auto;line-height:normal;font-family:Menlo,'DejaVu Sans Mono',consolas,'Courier New',monospace\"><span style=\"color: #808000; text-decoration-color: #808000; font-weight: bold\">C:\\Users\\Magic00\\AppData\\Local\\Temp\\ipykernel_1672\\</span><span style=\"color: #808000; text-decoration-color: #808000; font-weight: bold\">2241632796.</span><span style=\"color: #808000; text-decoration-color: #808000; font-weight: bold\">py:</span><span style=\"color: #808000; text-decoration-color: #808000; font-weight: bold\">3</span><span style=\"color: #808000; text-decoration-color: #808000; font-weight: bold\"> DeprecationWarning</span><span style=\"color: #808000; text-decoration-color: #808000\">: The `airflow.operators.bash_operator.BashOperator` class is deprecated. Please use `</span><span style=\"color: #808000; text-decoration-color: #808000\">'airflow.operators.bash.BashOperator'</span><span style=\"color: #808000; text-decoration-color: #808000\">`.</span>\n",
       "</pre>\n"
      ],
      "text/plain": [
       "\u001b[1;33mC:\\Users\\Magic00\\AppData\\Local\\Temp\\ipykernel_1672\\\u001b[0m\u001b[1;33m2241632796.\u001b[0m\u001b[1;33mpy:\u001b[0m\u001b[1;33m3\u001b[0m\u001b[1;33m DeprecationWarning\u001b[0m\u001b[33m: The `airflow.operators.bash_operator.BashOperator` class is deprecated. Please use `\u001b[0m\u001b[33m'airflow.operators.bash.BashOperator'\u001b[0m\u001b[33m`.\u001b[0m\n"
      ]
     },
     "metadata": {},
     "output_type": "display_data"
    },
    {
     "data": {
      "text/html": [
       "<pre style=\"white-space:pre;overflow-x:auto;line-height:normal;font-family:Menlo,'DejaVu Sans Mono',consolas,'Courier New',monospace\"><span style=\"color: #808000; text-decoration-color: #808000; font-weight: bold\">C:\\Users\\Magic00\\AppData\\Local\\Temp\\ipykernel_1672\\</span><span style=\"color: #808000; text-decoration-color: #808000; font-weight: bold\">2241632796.</span><span style=\"color: #808000; text-decoration-color: #808000; font-weight: bold\">py:</span><span style=\"color: #808000; text-decoration-color: #808000; font-weight: bold\">19</span><span style=\"color: #808000; text-decoration-color: #808000; font-weight: bold\"> RemovedInAirflow3Warning</span><span style=\"color: #808000; text-decoration-color: #808000\">: Param `schedule_interval` is deprecated and will be removed in a future release. Please use `schedule` instead.</span>\n",
       "</pre>\n"
      ],
      "text/plain": [
       "\u001b[1;33mC:\\Users\\Magic00\\AppData\\Local\\Temp\\ipykernel_1672\\\u001b[0m\u001b[1;33m2241632796.\u001b[0m\u001b[1;33mpy:\u001b[0m\u001b[1;33m19\u001b[0m\u001b[1;33m RemovedInAirflow3Warning\u001b[0m\u001b[33m: Param `schedule_interval` is deprecated and will be removed in a future release. Please use `schedule` instead.\u001b[0m\n"
      ]
     },
     "metadata": {},
     "output_type": "display_data"
    }
   ],
   "source": [
    "from datetime import datetime, timedelta\n",
    "from airflow import DAG\n",
    "from airflow.operators.bash_operator import BashOperator\n",
    "from urllib.request import urlopen\n",
    "import zipfile\n",
    "import os\n",
    "\n",
    "# Function to unzip data\n",
    "def unzip_data_function(**kwargs):\n",
    "    source_url = \"https://cf-courses-data.s3.us.cloud-object-storage.appdomain.cloud/IBM-DB0250EN-SkillsNetwork/labs/Final%20Assignment/tolldata.tgz\"  # Replace with the actual URL\n",
    "    destination_directory = r\"C:\\Users\\Magic00\\Downloads\"  # Replace with the actual path\n",
    "\n",
    "    # Download and unzip data\n",
    "    with urlopen(source_url) as zip_response:\n",
    "        with zipfile.ZipFile(zip_response, 'r') as zip_file:\n",
    "            zip_file.extractall(destination_directory)\n",
    "\n",
    "# DAG definition\n",
    "dag = DAG(\n",
    "    'ETL_toll_data',\n",
    "    default_args=dag_args,\n",
    "    schedule_interval='@daily',\n",
    ")\n",
    "\n",
    "# Task to unzip data\n",
    "unzip_data_task = BashOperator(\n",
    "    task_id='unzip_data',\n",
    "    bash_command='python /path/to/your/script.py',\n",
    "    dag=dag,\n",
    ")"
   ]
  },
  {
   "cell_type": "code",
   "execution_count": 3,
   "id": "873b878f",
   "metadata": {},
   "outputs": [
    {
     "data": {
      "text/html": [
       "<pre style=\"white-space:pre;overflow-x:auto;line-height:normal;font-family:Menlo,'DejaVu Sans Mono',consolas,'Courier New',monospace\"><span style=\"color: #808000; text-decoration-color: #808000; font-weight: bold\">C:\\Users\\Magic00\\AppData\\Local\\Temp\\ipykernel_1672\\</span><span style=\"color: #808000; text-decoration-color: #808000; font-weight: bold\">3000240894.</span><span style=\"color: #808000; text-decoration-color: #808000; font-weight: bold\">py:</span><span style=\"color: #808000; text-decoration-color: #808000; font-weight: bold\">3</span><span style=\"color: #808000; text-decoration-color: #808000; font-weight: bold\"> DeprecationWarning</span><span style=\"color: #808000; text-decoration-color: #808000\">: The `airflow.operators.bash_operator.BashOperator` class is deprecated. Please use `</span><span style=\"color: #808000; text-decoration-color: #808000\">'airflow.operators.bash.BashOperator'</span><span style=\"color: #808000; text-decoration-color: #808000\">`.</span>\n",
       "</pre>\n"
      ],
      "text/plain": [
       "\u001b[1;33mC:\\Users\\Magic00\\AppData\\Local\\Temp\\ipykernel_1672\\\u001b[0m\u001b[1;33m3000240894.\u001b[0m\u001b[1;33mpy:\u001b[0m\u001b[1;33m3\u001b[0m\u001b[1;33m DeprecationWarning\u001b[0m\u001b[33m: The `airflow.operators.bash_operator.BashOperator` class is deprecated. Please use `\u001b[0m\u001b[33m'airflow.operators.bash.BashOperator'\u001b[0m\u001b[33m`.\u001b[0m\n"
      ]
     },
     "metadata": {},
     "output_type": "display_data"
    },
    {
     "name": "stdout",
     "output_type": "stream",
     "text": [
      "[\u001b[34m2024-01-11T23:18:49.777+0200\u001b[0m] {\u001b[34mutils.py:\u001b[0m159} INFO\u001b[0m - NumExpr defaulting to 4 threads.\u001b[0m\n"
     ]
    }
   ],
   "source": [
    "from datetime import datetime, timedelta\n",
    "from airflow import DAG\n",
    "from airflow.operators.bash_operator import BashOperator\n",
    "import pandas as pd\n",
    "\n",
    "# Function to extract data from CSV file\n",
    "def extract_data_from_csv_function(**kwargs):\n",
    "    input_csv_path = r\"C:\\Users\\Magic00\\Downloads\\tolldata\\vehicle-data.csv\"  # Replace with the actual path\n",
    "    output_csv_path = r\"C:\\Users\\Magic00\\Downloads\\csv_data.csv\"  # Replace with the actual path\n",
    "\n",
    "    # Read CSV file and extract required fields\n",
    "    df = pd.read_csv(input_csv_path)\n",
    "    selected_fields = [\"Rowid\", \"Timestamp\", \"Anonymized Vehicle number\", \"Vehicle type\"]\n",
    "    extracted_data = df[selected_fields]\n",
    "\n",
    "    # Save extracted data to a new CSV file\n",
    "    extracted_data.to_csv(output_csv_path, index=False)\n",
    "\n",
    "# Task to extract data from CSV\n",
    "extract_data_from_csv_task = BashOperator(\n",
    "    task_id='extract_data_from_csv',\n",
    "    bash_command=r'C:\\Users\\Magic00\\Anaconda3\\python.exe C:\\Users\\Magic00\\Downloads\\extract_data_script.py',  # Replace with the actual path to your Python executable and script    provide_context=True,\n",
    "    dag=dag # Make sure to use the same DAG object defined earlier\n",
    ")"
   ]
  },
  {
   "cell_type": "code",
   "execution_count": 4,
   "id": "23720a55",
   "metadata": {},
   "outputs": [
    {
     "data": {
      "text/html": [
       "<pre style=\"white-space:pre;overflow-x:auto;line-height:normal;font-family:Menlo,'DejaVu Sans Mono',consolas,'Courier New',monospace\"><span style=\"color: #808000; text-decoration-color: #808000; font-weight: bold\">C:\\Users\\Magic00\\AppData\\Local\\Temp\\ipykernel_1672\\</span><span style=\"color: #808000; text-decoration-color: #808000; font-weight: bold\">3374964243.</span><span style=\"color: #808000; text-decoration-color: #808000; font-weight: bold\">py:</span><span style=\"color: #808000; text-decoration-color: #808000; font-weight: bold\">1</span><span style=\"color: #808000; text-decoration-color: #808000; font-weight: bold\"> DeprecationWarning</span><span style=\"color: #808000; text-decoration-color: #808000\">: The `airflow.operators.bash_operator.BashOperator` class is deprecated. Please use `</span><span style=\"color: #808000; text-decoration-color: #808000\">'airflow.operators.bash.BashOperator'</span><span style=\"color: #808000; text-decoration-color: #808000\">`.</span>\n",
       "</pre>\n"
      ],
      "text/plain": [
       "\u001b[1;33mC:\\Users\\Magic00\\AppData\\Local\\Temp\\ipykernel_1672\\\u001b[0m\u001b[1;33m3374964243.\u001b[0m\u001b[1;33mpy:\u001b[0m\u001b[1;33m1\u001b[0m\u001b[1;33m DeprecationWarning\u001b[0m\u001b[33m: The `airflow.operators.bash_operator.BashOperator` class is deprecated. Please use `\u001b[0m\u001b[33m'airflow.operators.bash.BashOperator'\u001b[0m\u001b[33m`.\u001b[0m\n"
      ]
     },
     "metadata": {},
     "output_type": "display_data"
    },
    {
     "data": {
      "text/html": [
       "<pre style=\"white-space:pre;overflow-x:auto;line-height:normal;font-family:Menlo,'DejaVu Sans Mono',consolas,'Courier New',monospace\"><span style=\"color: #808000; text-decoration-color: #808000; font-weight: bold\">C:\\Users\\Magic00\\AppData\\Local\\Temp\\ipykernel_1672\\</span><span style=\"color: #808000; text-decoration-color: #808000; font-weight: bold\">3374964243.</span><span style=\"color: #808000; text-decoration-color: #808000; font-weight: bold\">py:</span><span style=\"color: #808000; text-decoration-color: #808000; font-weight: bold\">11</span><span style=\"color: #808000; text-decoration-color: #808000; font-weight: bold\"> ParserWarning</span><span style=\"color: #808000; text-decoration-color: #808000\">: Falling back to the </span><span style=\"color: #808000; text-decoration-color: #808000\">'python'</span><span style=\"color: #808000; text-decoration-color: #808000\"> engine because the </span><span style=\"color: #808000; text-decoration-color: #808000\">'c'</span><span style=\"color: #808000; text-decoration-color: #808000\"> engine does not support regex separators </span><span style=\"color: #808000; text-decoration-color: #808000; font-weight: bold\">(</span><span style=\"color: #808000; text-decoration-color: #808000\">separators &gt; </span><span style=\"color: #808000; text-decoration-color: #808000; font-weight: bold\">1</span><span style=\"color: #808000; text-decoration-color: #808000\"> char and different from </span><span style=\"color: #808000; text-decoration-color: #808000\">'\\s+'</span><span style=\"color: #808000; text-decoration-color: #808000\"> are interpreted as regex</span><span style=\"color: #808000; text-decoration-color: #808000; font-weight: bold\">)</span><span style=\"color: #808000; text-decoration-color: #808000\">; you can avoid this warning by specifying </span><span style=\"color: #808000; text-decoration-color: #808000\">engine</span><span style=\"color: #808000; text-decoration-color: #808000\">=</span><span style=\"color: #808000; text-decoration-color: #808000\">'python'</span><span style=\"color: #808000; text-decoration-color: #808000\">.</span>\n",
       "</pre>\n"
      ],
      "text/plain": [
       "\u001b[1;33mC:\\Users\\Magic00\\AppData\\Local\\Temp\\ipykernel_1672\\\u001b[0m\u001b[1;33m3374964243.\u001b[0m\u001b[1;33mpy:\u001b[0m\u001b[1;33m11\u001b[0m\u001b[1;33m ParserWarning\u001b[0m\u001b[33m: Falling back to the \u001b[0m\u001b[33m'python'\u001b[0m\u001b[33m engine because the \u001b[0m\u001b[33m'c'\u001b[0m\u001b[33m engine does not support regex separators \u001b[0m\u001b[1;33m(\u001b[0m\u001b[33mseparators > \u001b[0m\u001b[1;33m1\u001b[0m\u001b[33m char and different from \u001b[0m\u001b[33m'\\s+'\u001b[0m\u001b[33m are interpreted as regex\u001b[0m\u001b[1;33m)\u001b[0m\u001b[33m; you can avoid this warning by specifying \u001b[0m\u001b[33mengine\u001b[0m\u001b[33m=\u001b[0m\u001b[33m'python'\u001b[0m\u001b[33m.\u001b[0m\n"
      ]
     },
     "metadata": {},
     "output_type": "display_data"
    }
   ],
   "source": [
    "from airflow.operators.bash_operator import BashOperator\n",
    "\n",
    "import pandas as pd\n",
    "\n",
    "# Function to extract data from TSV file\n",
    "def extract_data_from_tsv():\n",
    "    input_tsv_path = r'C:\\\\Users\\\\Magic00\\\\Downloads\\\\tolldata\\\\tollplaza-data.tsv'\n",
    "    output_csv_path = r'C:\\\\Users\\\\Magic00\\\\Downloads\\\\tsv_data.csv'\n",
    "\n",
    "    # Read TSV file and extract required fields\n",
    "    df = pd.read_csv(input_tsv_path, sep='\\\\t')\n",
    "    extracted_data = df\n",
    "\n",
    "    # Save extracted data to a new CSV file\n",
    "    extracted_data.to_csv(output_csv_path, index=False)\n",
    "\n",
    "extract_data_from_tsv()\n",
    "\n",
    "\n",
    "# Task to extract data from TSV using BashOperator\n",
    "extract_data_from_tsv_task = BashOperator(\n",
    "    task_id='extract_data_from_tsv',\n",
    "    bash_command=r'C:\\Users\\Magic00\\Anaconda3\\python.exe C:\\Users\\Magic00\\Downloads\\extract_data_script.py',\n",
    "    dag=dag,  # No DAG definition for this standalone task\n",
    ")"
   ]
  },
  {
   "cell_type": "code",
   "execution_count": 5,
   "id": "3f75eb85",
   "metadata": {},
   "outputs": [
    {
     "data": {
      "text/html": [
       "<pre style=\"white-space:pre;overflow-x:auto;line-height:normal;font-family:Menlo,'DejaVu Sans Mono',consolas,'Courier New',monospace\"><span style=\"color: #808000; text-decoration-color: #808000; font-weight: bold\">C:\\Users\\Magic00\\AppData\\Local\\Temp\\ipykernel_1672\\</span><span style=\"color: #808000; text-decoration-color: #808000; font-weight: bold\">1770521696.</span><span style=\"color: #808000; text-decoration-color: #808000; font-weight: bold\">py:</span><span style=\"color: #808000; text-decoration-color: #808000; font-weight: bold\">1</span><span style=\"color: #808000; text-decoration-color: #808000; font-weight: bold\"> DeprecationWarning</span><span style=\"color: #808000; text-decoration-color: #808000\">: The `airflow.operators.bash_operator.BashOperator` class is deprecated. Please use `</span><span style=\"color: #808000; text-decoration-color: #808000\">'airflow.operators.bash.BashOperator'</span><span style=\"color: #808000; text-decoration-color: #808000\">`.</span>\n",
       "</pre>\n"
      ],
      "text/plain": [
       "\u001b[1;33mC:\\Users\\Magic00\\AppData\\Local\\Temp\\ipykernel_1672\\\u001b[0m\u001b[1;33m1770521696.\u001b[0m\u001b[1;33mpy:\u001b[0m\u001b[1;33m1\u001b[0m\u001b[1;33m DeprecationWarning\u001b[0m\u001b[33m: The `airflow.operators.bash_operator.BashOperator` class is deprecated. Please use `\u001b[0m\u001b[33m'airflow.operators.bash.BashOperator'\u001b[0m\u001b[33m`.\u001b[0m\n"
      ]
     },
     "metadata": {},
     "output_type": "display_data"
    }
   ],
   "source": [
    "from airflow.operators.bash_operator import BashOperator\n",
    "\n",
    "# Bash command to extract data from fixed width file using Python\n",
    "extract_data_from_fixed_width_command = \"\"\"\n",
    "python -c \"\n",
    "import pandas as pd\n",
    "\n",
    "# Function to extract data from fixed width file\n",
    "def extract_data_from_fixed_width():\n",
    "    input_fixed_width_path = r'C:\\\\Users\\\\Magic00\\\\Downloads\\\\tolldata\\\\payment-data.txt'\n",
    "    output_csv_path = r'C:\\\\Users\\\\Magic00\\\\Downloads\\\\fixed_width_data.csv'\n",
    "\n",
    "    # Define the column positions for fixed width fields\n",
    "    column_positions = [(0, 2), (2, 6)]\n",
    "\n",
    "    # Read fixed width file and extract required fields\n",
    "    df = pd.read_fwf(input_fixed_width_path, colspecs=column_positions)\n",
    "    extracted_data = df\n",
    "\n",
    "    # Save extracted data to a new CSV file\n",
    "    extracted_data.to_csv(output_csv_path, index=False)\n",
    "\n",
    "extract_data_from_fixed_width()\n",
    "\"\n",
    "\"\"\"\n",
    "\n",
    "# Task to extract data from fixed width file using BashOperator\n",
    "extract_data_from_fixed_width_task = BashOperator(\n",
    "    task_id='extract_data_from_fixed_width',\n",
    "    bash_command=extract_data_from_fixed_width_command,\n",
    "    dag=dag,  \n",
    ")"
   ]
  },
  {
   "cell_type": "code",
   "execution_count": 6,
   "id": "db06ef4a",
   "metadata": {},
   "outputs": [
    {
     "data": {
      "text/html": [
       "<pre style=\"white-space:pre;overflow-x:auto;line-height:normal;font-family:Menlo,'DejaVu Sans Mono',consolas,'Courier New',monospace\"><span style=\"color: #808000; text-decoration-color: #808000; font-weight: bold\">C:\\Users\\Magic00\\AppData\\Local\\Temp\\ipykernel_1672\\</span><span style=\"color: #808000; text-decoration-color: #808000; font-weight: bold\">147194520.</span><span style=\"color: #808000; text-decoration-color: #808000; font-weight: bold\">py:</span><span style=\"color: #808000; text-decoration-color: #808000; font-weight: bold\">1</span><span style=\"color: #808000; text-decoration-color: #808000; font-weight: bold\"> DeprecationWarning</span><span style=\"color: #808000; text-decoration-color: #808000\">: The `airflow.operators.bash_operator.BashOperator` class is deprecated. Please use `</span><span style=\"color: #808000; text-decoration-color: #808000\">'airflow.operators.bash.BashOperator'</span><span style=\"color: #808000; text-decoration-color: #808000\">`.</span>\n",
       "</pre>\n"
      ],
      "text/plain": [
       "\u001b[1;33mC:\\Users\\Magic00\\AppData\\Local\\Temp\\ipykernel_1672\\\u001b[0m\u001b[1;33m147194520.\u001b[0m\u001b[1;33mpy:\u001b[0m\u001b[1;33m1\u001b[0m\u001b[1;33m DeprecationWarning\u001b[0m\u001b[33m: The `airflow.operators.bash_operator.BashOperator` class is deprecated. Please use `\u001b[0m\u001b[33m'airflow.operators.bash.BashOperator'\u001b[0m\u001b[33m`.\u001b[0m\n"
      ]
     },
     "metadata": {},
     "output_type": "display_data"
    }
   ],
   "source": [
    "from airflow.operators.bash_operator import BashOperator\n",
    "\n",
    "# Bash command to consolidate data using paste command\n",
    "consolidate_data_command = \"\"\"\n",
    "paste C:\\\\Users\\\\Magic00\\\\Downloads\\\\csv_data.csv \\\n",
    "      C:\\\\Users\\\\Magic00\\\\Downloads\\\\tsv_data.csv \\\n",
    "      C:\\\\Users\\\\Magic00\\\\Downloads\\\\fixed_width_data.csv > C:\\\\Users\\\\Magic00\\\\Downloads\\\\extracted_data.csv\n",
    "\"\"\"\n",
    "\n",
    "# Task to consolidate data using BashOperator\n",
    "consolidate_data_task = BashOperator(\n",
    "    task_id='consolidate_data',\n",
    "    bash_command=consolidate_data_command,\n",
    "    dag=dag,  \n",
    ")"
   ]
  },
  {
   "cell_type": "code",
   "execution_count": 7,
   "id": "3004dcf3",
   "metadata": {},
   "outputs": [],
   "source": [
    "# Bash command to transform data using awk command\n",
    "transform_data_command = \"\"\"\n",
    "awk 'BEGIN {FS=OFS=\",\"} {if(NR>1) $4=toupper($4)} 1' \\\n",
    "C:\\\\Users\\\\Magic00\\\\Downloads\\\\extracted_data.csv > C:\\\\Users\\\\Magic00\\\\Downloads\\\\transformed_data.csv\n",
    "\"\"\"\n",
    "\n",
    "# Task to transform data using BashOperator\n",
    "transform_data_task = BashOperator(\n",
    "    task_id='transform_data',\n",
    "    bash_command=transform_data_command,\n",
    "    dag=dag,  \n",
    ")"
   ]
  },
  {
   "cell_type": "code",
   "execution_count": 8,
   "id": "35dd4991",
   "metadata": {},
   "outputs": [
    {
     "data": {
      "text/plain": [
       "<Task(BashOperator): transform_data>"
      ]
     },
     "execution_count": 8,
     "metadata": {},
     "output_type": "execute_result"
    }
   ],
   "source": [
    "from airflow import DAG\n",
    "from datetime import datetime, timedelta\n",
    "\n",
    "# Define task dependencies\n",
    "unzip_data_task >> extract_data_from_csv_task >> extract_data_from_tsv_task >> extract_data_from_fixed_width_task\n",
    "extract_data_from_csv_task >> consolidate_data_task\n",
    "extract_data_from_tsv_task >> consolidate_data_task\n",
    "extract_data_from_fixed_width_task >> consolidate_data_task\n",
    "consolidate_data_task >> transform_data_task"
   ]
  },
  {
   "cell_type": "code",
   "execution_count": 14,
   "id": "bc84854c",
   "metadata": {},
   "outputs": [],
   "source": [
    "#Submit the DAG\n",
    "#airflow dag trigger \"ETL_toll_data\""
   ]
  },
  {
   "cell_type": "code",
   "execution_count": 15,
   "id": "57fbb7aa",
   "metadata": {},
   "outputs": [],
   "source": [
    "#Unpause the DAG\n",
    "#airflow dag unpause \"ETL_toll_data\""
   ]
  }
 ],
 "metadata": {
  "kernelspec": {
   "display_name": "Python 3 (ipykernel)",
   "language": "python",
   "name": "python3"
  },
  "language_info": {
   "codemirror_mode": {
    "name": "ipython",
    "version": 3
   },
   "file_extension": ".py",
   "mimetype": "text/x-python",
   "name": "python",
   "nbconvert_exporter": "python",
   "pygments_lexer": "ipython3",
   "version": "3.9.12"
  }
 },
 "nbformat": 4,
 "nbformat_minor": 5
}
